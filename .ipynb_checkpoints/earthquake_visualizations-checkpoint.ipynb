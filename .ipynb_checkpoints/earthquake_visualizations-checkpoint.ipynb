# Required Libraries
import pandas as pd
import matplotlib.pyplot as plt
import seaborn as sns

# Load Dataset
file_path = 'turkey_earthquakes.csv'
earthquake_data = pd.read_csv(file_path)

# Convert date and time columns to datetime for better handling
earthquake_data['datetime'] = pd.to_datetime(earthquake_data['Olus tarihi'] + ' ' + earthquake_data['Olus zamani'], format='%Y.%m.%d %H:%M:%S.%f')

# Set Seaborn theme for better aesthetics
sns.set(style="whitegrid")

# Visualization 1: Frequency of Earthquakes Over Time
plt.figure(figsize=(10, 6))
earthquake_data['datetime'].dt.date.value_counts().sort_index().plot(kind='line', marker='o')
plt.title('Frequency of Earthquakes Over Time')
plt.xlabel('Date')
plt.ylabel('Number of Earthquakes')
plt.xticks(rotation=45)
plt.tight_layout()
plt.show()

# Visualization 2: Distribution of Earthquake Depth
plt.figure(figsize=(10, 6))
sns.histplot(earthquake_data['Derinlik'], kde=True, bins=20, color='blue')
plt.title('Distribution of Earthquake Depth')
plt.xlabel('Depth (km)')
plt.ylabel('Frequency')
plt.tight_layout()
plt.show()

# Visualization 3: Magnitude Distribution (using Mw)
plt.figure(figsize=(10, 6))
sns.histplot(earthquake_data['Mw'], kde=True, bins=20, color='red')
plt.title('Distribution of Earthquake Magnitude (Mw)')
plt.xlabel('Magnitude (Mw)')
plt.ylabel('Frequency')
plt.tight_layout()
plt.show()

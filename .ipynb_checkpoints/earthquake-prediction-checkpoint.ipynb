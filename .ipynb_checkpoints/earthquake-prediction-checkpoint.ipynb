{
 "cells": [
  {
   "cell_type": "markdown",
   "metadata": {
    "_uuid": "d74c8a9da867939d1dcc94bcded9cfe04729377d"
   },
   "source": [
    "# Earthquake Prediction\n",
    "It is well known that if a disaster has happened in a region, it is likely to happen there again. Some regions really have frequent earthquakes, but this is just a comparative quantity compared to other regions.\n",
    "So, predicting the earthquake with Date and Time, Latitude and Longitude from previous data is not a trend which follows like other things, it is natural occuring. "
   ]
  },
  {
   "cell_type": "markdown",
   "metadata": {
    "_uuid": "1039e9219b8df39a5a2238ea87605930fd5755ee"
   },
   "source": [
    "Import the necessary libraries required for buidling the model and data analysis of the earthquakes."
   ]
  },
  {
   "cell_type": "code",
   "execution_count": 15,
   "metadata": {
    "_cell_guid": "b1076dfc-b9ad-4769-8c92-a6c4dae69d19",
    "_uuid": "8f2839f25d086af736a60e9eeb907d3b93b6e0e5"
   },
   "outputs": [],
   "source": [
    "import numpy as np\n",
    "import pandas as pd\n",
    "import matplotlib.pyplot as plt"
   ]
  },
  {
   "cell_type": "markdown",
   "metadata": {
    "_uuid": "839689014c0450052ccc8ac8f75766f25ba8c5ba"
   },
   "source": [
    "Read the data from csv and also columns which are necessary for the model and the column which needs to be predicted."
   ]
  },
  {
   "cell_type": "code",
   "execution_count": 16,
   "metadata": {
    "_uuid": "0cf62f03d1e37f69de7358546abc41af384a8ff6"
   },
   "outputs": [
    {
     "data": {
      "text/html": [
       "<div>\n",
       "<style scoped>\n",
       "    .dataframe tbody tr th:only-of-type {\n",
       "        vertical-align: middle;\n",
       "    }\n",
       "\n",
       "    .dataframe tbody tr th {\n",
       "        vertical-align: top;\n",
       "    }\n",
       "\n",
       "    .dataframe thead th {\n",
       "        text-align: right;\n",
       "    }\n",
       "</style>\n",
       "<table border=\"1\" class=\"dataframe\">\n",
       "  <thead>\n",
       "    <tr style=\"text-align: right;\">\n",
       "      <th></th>\n",
       "      <th>No</th>\n",
       "      <th>Deprem Kodu</th>\n",
       "      <th>Olus tarihi</th>\n",
       "      <th>Olus zamani</th>\n",
       "      <th>Enlem</th>\n",
       "      <th>Boylam</th>\n",
       "      <th>Derinlik</th>\n",
       "      <th>xM</th>\n",
       "      <th>MD</th>\n",
       "      <th>ML</th>\n",
       "      <th>Mw</th>\n",
       "      <th>Ms</th>\n",
       "      <th>Mb</th>\n",
       "      <th>Tip</th>\n",
       "      <th>Yer</th>\n",
       "    </tr>\n",
       "  </thead>\n",
       "  <tbody>\n",
       "    <tr>\n",
       "      <th>0</th>\n",
       "      <td>1</td>\n",
       "      <td>20231231222846</td>\n",
       "      <td>2023.12.31</td>\n",
       "      <td>22:28:46.51</td>\n",
       "      <td>37.4900</td>\n",
       "      <td>43.7095</td>\n",
       "      <td>2.6</td>\n",
       "      <td>3.8</td>\n",
       "      <td>0.0</td>\n",
       "      <td>3.8</td>\n",
       "      <td>3.8</td>\n",
       "      <td>0.0</td>\n",
       "      <td>0.0</td>\n",
       "      <td>Ke</td>\n",
       "      <td>BAYKOY- (HAKKARI) [South 6.8 km]</td>\n",
       "    </tr>\n",
       "    <tr>\n",
       "      <th>1</th>\n",
       "      <td>2</td>\n",
       "      <td>20231231170605</td>\n",
       "      <td>2023.12.31</td>\n",
       "      <td>17:06:05.42</td>\n",
       "      <td>37.4405</td>\n",
       "      <td>43.9263</td>\n",
       "      <td>5.0</td>\n",
       "      <td>4.5</td>\n",
       "      <td>0.0</td>\n",
       "      <td>4.5</td>\n",
       "      <td>4.4</td>\n",
       "      <td>0.0</td>\n",
       "      <td>0.0</td>\n",
       "      <td>Ke</td>\n",
       "      <td>YAZILI-YUKSEKOVA (HAKKARI) [South West  3.6 km]</td>\n",
       "    </tr>\n",
       "    <tr>\n",
       "      <th>2</th>\n",
       "      <td>3</td>\n",
       "      <td>20231231165304</td>\n",
       "      <td>2023.12.31</td>\n",
       "      <td>16:53:04.13</td>\n",
       "      <td>37.4942</td>\n",
       "      <td>43.6955</td>\n",
       "      <td>5.0</td>\n",
       "      <td>3.5</td>\n",
       "      <td>0.0</td>\n",
       "      <td>3.5</td>\n",
       "      <td>3.4</td>\n",
       "      <td>0.0</td>\n",
       "      <td>0.0</td>\n",
       "      <td>Ke</td>\n",
       "      <td>CIMENLI- (HAKKARI) [East 6.1 km]</td>\n",
       "    </tr>\n",
       "    <tr>\n",
       "      <th>3</th>\n",
       "      <td>4</td>\n",
       "      <td>20231231163755</td>\n",
       "      <td>2023.12.31</td>\n",
       "      <td>16:37:55.84</td>\n",
       "      <td>37.4763</td>\n",
       "      <td>43.6965</td>\n",
       "      <td>5.0</td>\n",
       "      <td>4.6</td>\n",
       "      <td>0.0</td>\n",
       "      <td>4.6</td>\n",
       "      <td>4.4</td>\n",
       "      <td>0.0</td>\n",
       "      <td>0.0</td>\n",
       "      <td>Ke</td>\n",
       "      <td>CIMENLI- (HAKKARI) [South East  6.3 km]</td>\n",
       "    </tr>\n",
       "    <tr>\n",
       "      <th>4</th>\n",
       "      <td>5</td>\n",
       "      <td>20231230204324</td>\n",
       "      <td>2023.12.30</td>\n",
       "      <td>20:43:24.21</td>\n",
       "      <td>40.2272</td>\n",
       "      <td>29.1705</td>\n",
       "      <td>12.9</td>\n",
       "      <td>3.6</td>\n",
       "      <td>0.0</td>\n",
       "      <td>3.6</td>\n",
       "      <td>3.4</td>\n",
       "      <td>0.0</td>\n",
       "      <td>0.0</td>\n",
       "      <td>Ke</td>\n",
       "      <td>GURSU (BURSA) [North West  2.2 km]</td>\n",
       "    </tr>\n",
       "  </tbody>\n",
       "</table>\n",
       "</div>"
      ],
      "text/plain": [
       "   No     Deprem Kodu Olus tarihi  Olus zamani    Enlem   Boylam  Derinlik  \\\n",
       "0   1  20231231222846  2023.12.31  22:28:46.51  37.4900  43.7095       2.6   \n",
       "1   2  20231231170605  2023.12.31  17:06:05.42  37.4405  43.9263       5.0   \n",
       "2   3  20231231165304  2023.12.31  16:53:04.13  37.4942  43.6955       5.0   \n",
       "3   4  20231231163755  2023.12.31  16:37:55.84  37.4763  43.6965       5.0   \n",
       "4   5  20231230204324  2023.12.30  20:43:24.21  40.2272  29.1705      12.9   \n",
       "\n",
       "    xM   MD   ML   Mw   Ms   Mb Tip  \\\n",
       "0  3.8  0.0  3.8  3.8  0.0  0.0  Ke   \n",
       "1  4.5  0.0  4.5  4.4  0.0  0.0  Ke   \n",
       "2  3.5  0.0  3.5  3.4  0.0  0.0  Ke   \n",
       "3  4.6  0.0  4.6  4.4  0.0  0.0  Ke   \n",
       "4  3.6  0.0  3.6  3.4  0.0  0.0  Ke   \n",
       "\n",
       "                                               Yer  \n",
       "0                 BAYKOY- (HAKKARI) [South 6.8 km]  \n",
       "1  YAZILI-YUKSEKOVA (HAKKARI) [South West  3.6 km]  \n",
       "2                 CIMENLI- (HAKKARI) [East 6.1 km]  \n",
       "3          CIMENLI- (HAKKARI) [South East  6.3 km]  \n",
       "4               GURSU (BURSA) [North West  2.2 km]  "
      ]
     },
     "execution_count": 16,
     "metadata": {},
     "output_type": "execute_result"
    }
   ],
   "source": [
    "data = pd.read_csv(\"turkey_earthquakes.csv\")\n",
    "data.head()"
   ]
  },
  {
   "cell_type": "code",
   "execution_count": 17,
   "metadata": {
    "_uuid": "393374ce2d7b88cfa5894078a5fcfd23cf999a0b"
   },
   "outputs": [
    {
     "data": {
      "text/plain": [
       "Index(['No', 'Deprem Kodu', 'Olus tarihi', 'Olus zamani', 'Enlem', 'Boylam',\n",
       "       'Derinlik', 'xM', 'MD', 'ML', 'Mw', 'Ms', 'Mb', 'Tip', 'Yer'],\n",
       "      dtype='object')"
      ]
     },
     "execution_count": 17,
     "metadata": {},
     "output_type": "execute_result"
    }
   ],
   "source": [
    "data.columns"
   ]
  },
  {
   "cell_type": "code",
   "execution_count": 18,
   "metadata": {},
   "outputs": [],
   "source": [
    "data.rename(columns={\n",
    "    'Olus tarihi': 'Date',\n",
    "    'Olus zamani': 'Time',\n",
    "    'Enlem': 'Latitude',\n",
    "    'Boylam': 'Longitude',\n",
    "    'Derinlik': 'Depth',\n",
    "    'xM': 'Magnitude'\n",
    "}, inplace=True)"
   ]
  },
  {
   "cell_type": "markdown",
   "metadata": {
    "_uuid": "6c4723dccc9ead17dd169cadd22433ba56b556e9"
   },
   "source": [
    "Figure out the main features from earthquake data and create a object of that features, namely, Date, Time, Latitude, Longitude, Depth, Magnitude."
   ]
  },
  {
   "cell_type": "code",
   "execution_count": 19,
   "metadata": {
    "_uuid": "ef3b8a3ff1da295b7578049bbbe87c8dffc24af5"
   },
   "outputs": [
    {
     "data": {
      "text/html": [
       "<div>\n",
       "<style scoped>\n",
       "    .dataframe tbody tr th:only-of-type {\n",
       "        vertical-align: middle;\n",
       "    }\n",
       "\n",
       "    .dataframe tbody tr th {\n",
       "        vertical-align: top;\n",
       "    }\n",
       "\n",
       "    .dataframe thead th {\n",
       "        text-align: right;\n",
       "    }\n",
       "</style>\n",
       "<table border=\"1\" class=\"dataframe\">\n",
       "  <thead>\n",
       "    <tr style=\"text-align: right;\">\n",
       "      <th></th>\n",
       "      <th>Date</th>\n",
       "      <th>Time</th>\n",
       "      <th>Latitude</th>\n",
       "      <th>Longitude</th>\n",
       "      <th>Depth</th>\n",
       "      <th>Magnitude</th>\n",
       "    </tr>\n",
       "  </thead>\n",
       "  <tbody>\n",
       "    <tr>\n",
       "      <th>0</th>\n",
       "      <td>2023.12.31</td>\n",
       "      <td>22:28:46.51</td>\n",
       "      <td>37.4900</td>\n",
       "      <td>43.7095</td>\n",
       "      <td>2.6</td>\n",
       "      <td>3.8</td>\n",
       "    </tr>\n",
       "    <tr>\n",
       "      <th>1</th>\n",
       "      <td>2023.12.31</td>\n",
       "      <td>17:06:05.42</td>\n",
       "      <td>37.4405</td>\n",
       "      <td>43.9263</td>\n",
       "      <td>5.0</td>\n",
       "      <td>4.5</td>\n",
       "    </tr>\n",
       "    <tr>\n",
       "      <th>2</th>\n",
       "      <td>2023.12.31</td>\n",
       "      <td>16:53:04.13</td>\n",
       "      <td>37.4942</td>\n",
       "      <td>43.6955</td>\n",
       "      <td>5.0</td>\n",
       "      <td>3.5</td>\n",
       "    </tr>\n",
       "    <tr>\n",
       "      <th>3</th>\n",
       "      <td>2023.12.31</td>\n",
       "      <td>16:37:55.84</td>\n",
       "      <td>37.4763</td>\n",
       "      <td>43.6965</td>\n",
       "      <td>5.0</td>\n",
       "      <td>4.6</td>\n",
       "    </tr>\n",
       "    <tr>\n",
       "      <th>4</th>\n",
       "      <td>2023.12.30</td>\n",
       "      <td>20:43:24.21</td>\n",
       "      <td>40.2272</td>\n",
       "      <td>29.1705</td>\n",
       "      <td>12.9</td>\n",
       "      <td>3.6</td>\n",
       "    </tr>\n",
       "  </tbody>\n",
       "</table>\n",
       "</div>"
      ],
      "text/plain": [
       "         Date         Time  Latitude  Longitude  Depth  Magnitude\n",
       "0  2023.12.31  22:28:46.51   37.4900    43.7095    2.6        3.8\n",
       "1  2023.12.31  17:06:05.42   37.4405    43.9263    5.0        4.5\n",
       "2  2023.12.31  16:53:04.13   37.4942    43.6955    5.0        3.5\n",
       "3  2023.12.31  16:37:55.84   37.4763    43.6965    5.0        4.6\n",
       "4  2023.12.30  20:43:24.21   40.2272    29.1705   12.9        3.6"
      ]
     },
     "execution_count": 19,
     "metadata": {},
     "output_type": "execute_result"
    }
   ],
   "source": [
    "data = data[['Date', 'Time', 'Latitude', 'Longitude', 'Depth', 'Magnitude']]\n",
    "data.head()"
   ]
  },
  {
   "cell_type": "markdown",
   "metadata": {
    "_uuid": "f35da0b2e5cc4062175ba73ecab96cf9a3527e0a"
   },
   "source": [
    "Here, the data is random we need to scale according to inputs to the model. In this, we convert given Date and Time to Unix time which is in seconds and a numeral. This can be easily used as input for the network we built."
   ]
  },
  {
   "cell_type": "code",
   "execution_count": 20,
   "metadata": {
    "_uuid": "ab5cb17dbfc84f427e02d01b22aec587e8d20a5d"
   },
   "outputs": [
    {
     "name": "stdout",
     "output_type": "stream",
     "text": [
      "                    Timestamp  Time_Diff\n",
      "0     2023-12-31 22:28:46.510        NaN\n",
      "1     2023-12-31 17:06:05.420     -323.0\n",
      "2     2023-12-31 16:53:04.130      -14.0\n",
      "3     2023-12-31 16:37:55.840      -16.0\n",
      "4     2023-12-30 20:43:24.210    -1195.0\n",
      "...                       ...        ...\n",
      "20302 1915-09-23 07:20:01.000  -133847.0\n",
      "20303 1915-05-19 04:48:02.400  -183032.0\n",
      "20304 1915-04-01 05:41:05.000   -69067.0\n",
      "20305 1915-02-28 12:47:02.400   -45655.0\n",
      "20306 1915-02-14 08:20:00.600   -20428.0\n",
      "\n",
      "[20307 rows x 2 columns]\n"
     ]
    }
   ],
   "source": [
    "# Date ve Time sütunlarını birleştir ve timestamp'e dönüştür\n",
    "data['Timestamp'] = pd.to_datetime(data['Date'] + ' ' + data['Time'])\n",
    "\n",
    "# Her satırın önceki satırla farkını hesapla\n",
    "data['Time_Diff'] = data['Timestamp'].diff()\n",
    "\n",
    "# Zaman farkını saat ve dakika cinsinden integer'a dönüştür\n",
    "# `Time_Difference` verisini dakikalara çeviriyoruz ve ardından saat ve dakika olarak böleceğiz\n",
    "data['Time_Diff'] = data['Time_Diff'].dt.total_seconds() // 60\n",
    "\n",
    "# Sonucu kontrol et\n",
    "print(data[['Timestamp', 'Time_Diff']])"
   ]
  },
  {
   "cell_type": "code",
   "execution_count": 21,
   "metadata": {},
   "outputs": [
    {
     "data": {
      "text/html": [
       "<div>\n",
       "<style scoped>\n",
       "    .dataframe tbody tr th:only-of-type {\n",
       "        vertical-align: middle;\n",
       "    }\n",
       "\n",
       "    .dataframe tbody tr th {\n",
       "        vertical-align: top;\n",
       "    }\n",
       "\n",
       "    .dataframe thead th {\n",
       "        text-align: right;\n",
       "    }\n",
       "</style>\n",
       "<table border=\"1\" class=\"dataframe\">\n",
       "  <thead>\n",
       "    <tr style=\"text-align: right;\">\n",
       "      <th></th>\n",
       "      <th>Date</th>\n",
       "      <th>Time</th>\n",
       "      <th>Latitude</th>\n",
       "      <th>Longitude</th>\n",
       "      <th>Depth</th>\n",
       "      <th>Magnitude</th>\n",
       "      <th>Timestamp</th>\n",
       "      <th>Time_Diff</th>\n",
       "    </tr>\n",
       "  </thead>\n",
       "  <tbody>\n",
       "    <tr>\n",
       "      <th>0</th>\n",
       "      <td>2023.12.31</td>\n",
       "      <td>22:28:46.51</td>\n",
       "      <td>37.4900</td>\n",
       "      <td>43.7095</td>\n",
       "      <td>2.6</td>\n",
       "      <td>3.8</td>\n",
       "      <td>2023-12-31 22:28:46.510</td>\n",
       "      <td>NaN</td>\n",
       "    </tr>\n",
       "    <tr>\n",
       "      <th>1</th>\n",
       "      <td>2023.12.31</td>\n",
       "      <td>17:06:05.42</td>\n",
       "      <td>37.4405</td>\n",
       "      <td>43.9263</td>\n",
       "      <td>5.0</td>\n",
       "      <td>4.5</td>\n",
       "      <td>2023-12-31 17:06:05.420</td>\n",
       "      <td>-323.0</td>\n",
       "    </tr>\n",
       "    <tr>\n",
       "      <th>2</th>\n",
       "      <td>2023.12.31</td>\n",
       "      <td>16:53:04.13</td>\n",
       "      <td>37.4942</td>\n",
       "      <td>43.6955</td>\n",
       "      <td>5.0</td>\n",
       "      <td>3.5</td>\n",
       "      <td>2023-12-31 16:53:04.130</td>\n",
       "      <td>-14.0</td>\n",
       "    </tr>\n",
       "    <tr>\n",
       "      <th>3</th>\n",
       "      <td>2023.12.31</td>\n",
       "      <td>16:37:55.84</td>\n",
       "      <td>37.4763</td>\n",
       "      <td>43.6965</td>\n",
       "      <td>5.0</td>\n",
       "      <td>4.6</td>\n",
       "      <td>2023-12-31 16:37:55.840</td>\n",
       "      <td>-16.0</td>\n",
       "    </tr>\n",
       "    <tr>\n",
       "      <th>4</th>\n",
       "      <td>2023.12.30</td>\n",
       "      <td>20:43:24.21</td>\n",
       "      <td>40.2272</td>\n",
       "      <td>29.1705</td>\n",
       "      <td>12.9</td>\n",
       "      <td>3.6</td>\n",
       "      <td>2023-12-30 20:43:24.210</td>\n",
       "      <td>-1195.0</td>\n",
       "    </tr>\n",
       "  </tbody>\n",
       "</table>\n",
       "</div>"
      ],
      "text/plain": [
       "         Date         Time  Latitude  Longitude  Depth  Magnitude  \\\n",
       "0  2023.12.31  22:28:46.51   37.4900    43.7095    2.6        3.8   \n",
       "1  2023.12.31  17:06:05.42   37.4405    43.9263    5.0        4.5   \n",
       "2  2023.12.31  16:53:04.13   37.4942    43.6955    5.0        3.5   \n",
       "3  2023.12.31  16:37:55.84   37.4763    43.6965    5.0        4.6   \n",
       "4  2023.12.30  20:43:24.21   40.2272    29.1705   12.9        3.6   \n",
       "\n",
       "                Timestamp  Time_Diff  \n",
       "0 2023-12-31 22:28:46.510        NaN  \n",
       "1 2023-12-31 17:06:05.420     -323.0  \n",
       "2 2023-12-31 16:53:04.130      -14.0  \n",
       "3 2023-12-31 16:37:55.840      -16.0  \n",
       "4 2023-12-30 20:43:24.210    -1195.0  "
      ]
     },
     "execution_count": 21,
     "metadata": {},
     "output_type": "execute_result"
    }
   ],
   "source": [
    "data.head()"
   ]
  },
  {
   "cell_type": "code",
   "execution_count": 24,
   "metadata": {},
   "outputs": [],
   "source": [
    "# Latitude ve Longitude değerlerine göre filtreleme\n",
    "filtered_data = data[(data['Latitude'] >= 37.3) & (data['Latitude'] <= 39) &\n",
    "                     (data['Longitude'] >= 26.1) & (data['Longitude'] <= 31)]"
   ]
  },
  {
   "cell_type": "code",
   "execution_count": 25,
   "metadata": {},
   "outputs": [
    {
     "data": {
      "text/html": [
       "<div>\n",
       "<style scoped>\n",
       "    .dataframe tbody tr th:only-of-type {\n",
       "        vertical-align: middle;\n",
       "    }\n",
       "\n",
       "    .dataframe tbody tr th {\n",
       "        vertical-align: top;\n",
       "    }\n",
       "\n",
       "    .dataframe thead th {\n",
       "        text-align: right;\n",
       "    }\n",
       "</style>\n",
       "<table border=\"1\" class=\"dataframe\">\n",
       "  <thead>\n",
       "    <tr style=\"text-align: right;\">\n",
       "      <th></th>\n",
       "      <th>Date</th>\n",
       "      <th>Time</th>\n",
       "      <th>Latitude</th>\n",
       "      <th>Longitude</th>\n",
       "      <th>Depth</th>\n",
       "      <th>Magnitude</th>\n",
       "      <th>Timestamp</th>\n",
       "      <th>Time_Diff</th>\n",
       "    </tr>\n",
       "  </thead>\n",
       "  <tbody>\n",
       "    <tr>\n",
       "      <th>55</th>\n",
       "      <td>2023.11.13</td>\n",
       "      <td>05:28:28.18</td>\n",
       "      <td>37.7307</td>\n",
       "      <td>29.9355</td>\n",
       "      <td>6.4</td>\n",
       "      <td>4.2</td>\n",
       "      <td>2023-11-13 05:28:28.180</td>\n",
       "      <td>-570.0</td>\n",
       "    </tr>\n",
       "    <tr>\n",
       "      <th>75</th>\n",
       "      <td>2023.10.20</td>\n",
       "      <td>20:53:08.67</td>\n",
       "      <td>38.3393</td>\n",
       "      <td>27.2000</td>\n",
       "      <td>13.3</td>\n",
       "      <td>4.1</td>\n",
       "      <td>2023-10-20 20:53:08.670</td>\n",
       "      <td>-493.0</td>\n",
       "    </tr>\n",
       "    <tr>\n",
       "      <th>79</th>\n",
       "      <td>2023.10.18</td>\n",
       "      <td>12:55:24.74</td>\n",
       "      <td>38.1968</td>\n",
       "      <td>27.6873</td>\n",
       "      <td>10.3</td>\n",
       "      <td>4.3</td>\n",
       "      <td>2023-10-18 12:55:24.740</td>\n",
       "      <td>-931.0</td>\n",
       "    </tr>\n",
       "    <tr>\n",
       "      <th>80</th>\n",
       "      <td>2023.10.17</td>\n",
       "      <td>13:57:15.05</td>\n",
       "      <td>37.6030</td>\n",
       "      <td>29.9870</td>\n",
       "      <td>2.7</td>\n",
       "      <td>3.9</td>\n",
       "      <td>2023-10-17 13:57:15.050</td>\n",
       "      <td>-1379.0</td>\n",
       "    </tr>\n",
       "    <tr>\n",
       "      <th>91</th>\n",
       "      <td>2023.10.09</td>\n",
       "      <td>22:57:59.48</td>\n",
       "      <td>37.7927</td>\n",
       "      <td>26.9352</td>\n",
       "      <td>10.7</td>\n",
       "      <td>3.8</td>\n",
       "      <td>2023-10-09 22:57:59.480</td>\n",
       "      <td>-2519.0</td>\n",
       "    </tr>\n",
       "    <tr>\n",
       "      <th>...</th>\n",
       "      <td>...</td>\n",
       "      <td>...</td>\n",
       "      <td>...</td>\n",
       "      <td>...</td>\n",
       "      <td>...</td>\n",
       "      <td>...</td>\n",
       "      <td>...</td>\n",
       "      <td>...</td>\n",
       "    </tr>\n",
       "    <tr>\n",
       "      <th>20258</th>\n",
       "      <td>1920.07.02</td>\n",
       "      <td>14:13:01.00</td>\n",
       "      <td>37.5000</td>\n",
       "      <td>29.0000</td>\n",
       "      <td>15.0</td>\n",
       "      <td>4.5</td>\n",
       "      <td>1920-07-02 14:13:01.000</td>\n",
       "      <td>-2765.0</td>\n",
       "    </tr>\n",
       "    <tr>\n",
       "      <th>20277</th>\n",
       "      <td>1918.11.13</td>\n",
       "      <td>10:13:27.00</td>\n",
       "      <td>37.8000</td>\n",
       "      <td>27.3000</td>\n",
       "      <td>35.0</td>\n",
       "      <td>5.4</td>\n",
       "      <td>1918-11-13 10:13:27.000</td>\n",
       "      <td>-17426.0</td>\n",
       "    </tr>\n",
       "    <tr>\n",
       "      <th>20287</th>\n",
       "      <td>1918.01.16</td>\n",
       "      <td>07:13:28.50</td>\n",
       "      <td>38.3400</td>\n",
       "      <td>29.4800</td>\n",
       "      <td>10.0</td>\n",
       "      <td>5.8</td>\n",
       "      <td>1918-01-16 07:13:28.500</td>\n",
       "      <td>-559.0</td>\n",
       "    </tr>\n",
       "    <tr>\n",
       "      <th>20289</th>\n",
       "      <td>1917.08.08</td>\n",
       "      <td>03:41:10.00</td>\n",
       "      <td>39.0000</td>\n",
       "      <td>27.0000</td>\n",
       "      <td>15.0</td>\n",
       "      <td>4.7</td>\n",
       "      <td>1917-08-08 03:41:10.000</td>\n",
       "      <td>-203281.0</td>\n",
       "    </tr>\n",
       "    <tr>\n",
       "      <th>20298</th>\n",
       "      <td>1916.08.17</td>\n",
       "      <td>20:22:00.00</td>\n",
       "      <td>38.2000</td>\n",
       "      <td>26.2000</td>\n",
       "      <td>10.0</td>\n",
       "      <td>4.9</td>\n",
       "      <td>1916-08-17 20:22:00.000</td>\n",
       "      <td>-103706.0</td>\n",
       "    </tr>\n",
       "  </tbody>\n",
       "</table>\n",
       "<p>3200 rows × 8 columns</p>\n",
       "</div>"
      ],
      "text/plain": [
       "             Date         Time  Latitude  Longitude  Depth  Magnitude  \\\n",
       "55     2023.11.13  05:28:28.18   37.7307    29.9355    6.4        4.2   \n",
       "75     2023.10.20  20:53:08.67   38.3393    27.2000   13.3        4.1   \n",
       "79     2023.10.18  12:55:24.74   38.1968    27.6873   10.3        4.3   \n",
       "80     2023.10.17  13:57:15.05   37.6030    29.9870    2.7        3.9   \n",
       "91     2023.10.09  22:57:59.48   37.7927    26.9352   10.7        3.8   \n",
       "...           ...          ...       ...        ...    ...        ...   \n",
       "20258  1920.07.02  14:13:01.00   37.5000    29.0000   15.0        4.5   \n",
       "20277  1918.11.13  10:13:27.00   37.8000    27.3000   35.0        5.4   \n",
       "20287  1918.01.16  07:13:28.50   38.3400    29.4800   10.0        5.8   \n",
       "20289  1917.08.08  03:41:10.00   39.0000    27.0000   15.0        4.7   \n",
       "20298  1916.08.17  20:22:00.00   38.2000    26.2000   10.0        4.9   \n",
       "\n",
       "                    Timestamp  Time_Diff  \n",
       "55    2023-11-13 05:28:28.180     -570.0  \n",
       "75    2023-10-20 20:53:08.670     -493.0  \n",
       "79    2023-10-18 12:55:24.740     -931.0  \n",
       "80    2023-10-17 13:57:15.050    -1379.0  \n",
       "91    2023-10-09 22:57:59.480    -2519.0  \n",
       "...                       ...        ...  \n",
       "20258 1920-07-02 14:13:01.000    -2765.0  \n",
       "20277 1918-11-13 10:13:27.000   -17426.0  \n",
       "20287 1918-01-16 07:13:28.500     -559.0  \n",
       "20289 1917-08-08 03:41:10.000  -203281.0  \n",
       "20298 1916-08-17 20:22:00.000  -103706.0  \n",
       "\n",
       "[3200 rows x 8 columns]"
      ]
     },
     "execution_count": 25,
     "metadata": {},
     "output_type": "execute_result"
    }
   ],
   "source": [
    "filtered_data"
   ]
  },
  {
   "cell_type": "markdown",
   "metadata": {
    "_uuid": "e0161f71675503ec0e51bea6b8f5c0276f7917f2"
   },
   "source": [
    "## Visualization\n",
    "Here, all the earthquakes from the database in visualized on to the world map which shows clear representation of the locations where frequency of the earthquake will be more. "
   ]
  },
  {
   "cell_type": "code",
   "execution_count": 26,
   "metadata": {
    "_uuid": "229fc3316366e5e9d6c101084829406e94110d89"
   },
   "outputs": [],
   "source": [
    "from mpl_toolkits.basemap import Basemap\n",
    "\n",
    "m = Basemap(projection='mill',llcrnrlat=37.3,urcrnrlat=39, llcrnrlon=26.1,urcrnrlon=31,lat_ts=20,resolution='f')\n",
    "\n",
    "longitudes = filtered_data[\"Longitude\"].tolist()\n",
    "latitudes = filtered_data[\"Latitude\"].tolist()\n",
    "#m = Basemap(width=12000000,height=9000000,projection='lcc',\n",
    "            #resolution=full,south_lat=37.3,north_lat_2=39,west_lon=26.1,east_lon=31)\n",
    "x,y = m(longitudes,latitudes)"
   ]
  },
  {
   "cell_type": "code",
   "execution_count": 27,
   "metadata": {
    "_uuid": "cd38f9d1f7b894a912268c1e043a065803cb2631"
   },
   "outputs": [
    {
     "data": {
      "image/png": "[encoded data removed]",
      "text/plain": [
       "<Figure size 1200x1000 with 1 Axes>"
      ]
     },
     "metadata": {},
     "output_type": "display_data"
    }
   ],
   "source": [
    "fig = plt.figure(figsize=(12,10))\n",
    "plt.title(\"All affected areas\")\n",
    "m.drawrivers(color='#0000ff')\n",
    "m.plot(x, y, \"o\", markersize = 2, color = 'blue')\n",
    "m.drawcoastlines()\n",
    "m.fillcontinents(color='#ddaa66', lake_color='#0000ff')\n",
    "m.drawmapboundary()\n",
    "m.drawcountries()\n",
    "\n",
    "m.drawparallels(range(-90, 100, 10), linewidth=2, dashes=[4, 2], labels=[1,0,0,1], color='r', zorder=0 )\n",
    "\n",
    "plt.show()"
   ]
  },
  {
   "cell_type": "markdown",
   "metadata": {
    "_uuid": "9eb980f99372feccb267c86d468f36d5d6808c39"
   },
   "source": [
    "### Splitting the Data\n",
    "Firstly, split the data into Xs and ys which are input to the model and output of the model respectively. Here, inputs are TImestamp, Latitude and Longitude and outputs are Magnitude and Depth. Split the Xs and ys into train and test with validation. Training dataset contains 80% and Test dataset contains 20%."
   ]
  },
  {
   "cell_type": "code",
   "execution_count": 28,
   "metadata": {},
   "outputs": [
    {
     "data": {
      "text/html": [
       "<div>\n",
       "<style scoped>\n",
       "    .dataframe tbody tr th:only-of-type {\n",
       "        vertical-align: middle;\n",
       "    }\n",
       "\n",
       "    .dataframe tbody tr th {\n",
       "        vertical-align: top;\n",
       "    }\n",
       "\n",
       "    .dataframe thead th {\n",
       "        text-align: right;\n",
       "    }\n",
       "</style>\n",
       "<table border=\"1\" class=\"dataframe\">\n",
       "  <thead>\n",
       "    <tr style=\"text-align: right;\">\n",
       "      <th></th>\n",
       "      <th>Latitude</th>\n",
       "      <th>Longitude</th>\n",
       "      <th>Depth</th>\n",
       "      <th>Magnitude</th>\n",
       "      <th>Timestamp</th>\n",
       "      <th>Time_Diff</th>\n",
       "    </tr>\n",
       "  </thead>\n",
       "  <tbody>\n",
       "    <tr>\n",
       "      <th>count</th>\n",
       "      <td>3200.000000</td>\n",
       "      <td>3200.000000</td>\n",
       "      <td>3200.000000</td>\n",
       "      <td>3200.000000</td>\n",
       "      <td>3200</td>\n",
       "      <td>3200.000000</td>\n",
       "    </tr>\n",
       "    <tr>\n",
       "      <th>mean</th>\n",
       "      <td>38.203505</td>\n",
       "      <td>27.934520</td>\n",
       "      <td>10.921406</td>\n",
       "      <td>3.912844</td>\n",
       "      <td>1995-04-04 06:00:47.291046912</td>\n",
       "      <td>-2554.932188</td>\n",
       "    </tr>\n",
       "    <tr>\n",
       "      <th>min</th>\n",
       "      <td>37.300000</td>\n",
       "      <td>26.100000</td>\n",
       "      <td>0.000000</td>\n",
       "      <td>3.500000</td>\n",
       "      <td>1916-08-17 20:22:00</td>\n",
       "      <td>-207094.000000</td>\n",
       "    </tr>\n",
       "    <tr>\n",
       "      <th>25%</th>\n",
       "      <td>37.830000</td>\n",
       "      <td>26.740000</td>\n",
       "      <td>5.000000</td>\n",
       "      <td>3.600000</td>\n",
       "      <td>1981-04-03 05:58:22.275000</td>\n",
       "      <td>-2096.000000</td>\n",
       "    </tr>\n",
       "    <tr>\n",
       "      <th>50%</th>\n",
       "      <td>38.128900</td>\n",
       "      <td>27.320000</td>\n",
       "      <td>9.000000</td>\n",
       "      <td>3.700000</td>\n",
       "      <td>1995-10-06 03:39:11.150000</td>\n",
       "      <td>-580.000000</td>\n",
       "    </tr>\n",
       "    <tr>\n",
       "      <th>75%</th>\n",
       "      <td>38.700000</td>\n",
       "      <td>29.290000</td>\n",
       "      <td>12.225000</td>\n",
       "      <td>4.100000</td>\n",
       "      <td>2011-03-17 02:12:36.697500160</td>\n",
       "      <td>-96.750000</td>\n",
       "    </tr>\n",
       "    <tr>\n",
       "      <th>max</th>\n",
       "      <td>39.000000</td>\n",
       "      <td>31.000000</td>\n",
       "      <td>130.000000</td>\n",
       "      <td>6.900000</td>\n",
       "      <td>2023-11-13 05:28:28.180000</td>\n",
       "      <td>-1.000000</td>\n",
       "    </tr>\n",
       "    <tr>\n",
       "      <th>std</th>\n",
       "      <td>0.496038</td>\n",
       "      <td>1.430907</td>\n",
       "      <td>10.784145</td>\n",
       "      <td>0.487237</td>\n",
       "      <td>NaN</td>\n",
       "      <td>9533.895859</td>\n",
       "    </tr>\n",
       "  </tbody>\n",
       "</table>\n",
       "</div>"
      ],
      "text/plain": [
       "          Latitude    Longitude        Depth    Magnitude  \\\n",
       "count  3200.000000  3200.000000  3200.000000  3200.000000   \n",
       "mean     38.203505    27.934520    10.921406     3.912844   \n",
       "min      37.300000    26.100000     0.000000     3.500000   \n",
       "25%      37.830000    26.740000     5.000000     3.600000   \n",
       "50%      38.128900    27.320000     9.000000     3.700000   \n",
       "75%      38.700000    29.290000    12.225000     4.100000   \n",
       "max      39.000000    31.000000   130.000000     6.900000   \n",
       "std       0.496038     1.430907    10.784145     0.487237   \n",
       "\n",
       "                           Timestamp      Time_Diff  \n",
       "count                           3200    3200.000000  \n",
       "mean   1995-04-04 06:00:47.291046912   -2554.932188  \n",
       "min              1916-08-17 20:22:00 -207094.000000  \n",
       "25%       1981-04-03 05:58:22.275000   -2096.000000  \n",
       "50%       1995-10-06 03:39:11.150000    -580.000000  \n",
       "75%    2011-03-17 02:12:36.697500160     -96.750000  \n",
       "max       2023-11-13 05:28:28.180000      -1.000000  \n",
       "std                              NaN    9533.895859  "
      ]
     },
     "execution_count": 28,
     "metadata": {},
     "output_type": "execute_result"
    }
   ],
   "source": [
    "filtered_data.describe()"
   ]
  },
  {
   "cell_type": "code",
   "execution_count": 29,
   "metadata": {},
   "outputs": [
    {
     "data": {
      "text/plain": [
       "Date         0\n",
       "Time         0\n",
       "Latitude     0\n",
       "Longitude    0\n",
       "Depth        0\n",
       "Magnitude    0\n",
       "Timestamp    0\n",
       "Time_Diff    1\n",
       "dtype: int64"
      ]
     },
     "execution_count": 29,
     "metadata": {},
     "output_type": "execute_result"
    }
   ],
   "source": [
    "data.isna().sum()"
   ]
  },
  {
   "cell_type": "code",
   "execution_count": 30,
   "metadata": {
    "_uuid": "4f3e27f35bf788084db7eb98d5c55bddfa07cde2"
   },
   "outputs": [],
   "source": [
    "X = data[['Time_Diff', 'Latitude', 'Longitude']]\n",
    "y = data[['Magnitude', 'Depth']]"
   ]
  },
  {
   "cell_type": "code",
   "execution_count": 31,
   "metadata": {},
   "outputs": [
    {
     "name": "stdout",
     "output_type": "stream",
     "text": [
      "       Time_Diff  Latitude  Longitude\n",
      "0            NaN   37.4900    43.7095\n",
      "1         -323.0   37.4405    43.9263\n",
      "2          -14.0   37.4942    43.6955\n",
      "3          -16.0   37.4763    43.6965\n",
      "4        -1195.0   40.2272    29.1705\n",
      "...          ...       ...        ...\n",
      "20302  -133847.0   40.0000    43.0000\n",
      "20303  -183032.0   37.6200    39.4700\n",
      "20304   -69067.0   40.5000    44.5000\n",
      "20305   -45655.0   37.7000    43.1000\n",
      "20306   -20428.0   38.8000    42.5000\n",
      "\n",
      "[20307 rows x 3 columns]\n",
      "       Magnitude  Depth\n",
      "0            3.8    2.6\n",
      "1            4.5    5.0\n",
      "2            3.5    5.0\n",
      "3            4.6    5.0\n",
      "4            3.6   12.9\n",
      "...          ...    ...\n",
      "20302        4.4   15.0\n",
      "20303        5.5   10.0\n",
      "20304        4.9   35.0\n",
      "20305        5.5   30.0\n",
      "20306        5.7   30.0\n",
      "\n",
      "[20307 rows x 2 columns]\n",
      "20307 20307\n"
     ]
    }
   ],
   "source": [
    "print(X)\n",
    "print(y)\n",
    "print(len(X), len(y))"
   ]
  },
  {
   "cell_type": "code",
   "execution_count": 32,
   "metadata": {
    "_uuid": "31d9ba582a7af902b59788a862be5d1e1523d639"
   },
   "outputs": [
    {
     "name": "stdout",
     "output_type": "stream",
     "text": [
      "(16245, 3) (4062, 3) (16245, 2) (4062, 3)\n"
     ]
    }
   ],
   "source": [
    "from sklearn.model_selection import train_test_split\n",
    "\n",
    "X_train, X_test, y_train, y_test = train_test_split(X, y, test_size=0.2, random_state=42)\n",
    "print(X_train.shape, X_test.shape, y_train.shape, X_test.shape)"
   ]
  },
  {
   "cell_type": "markdown",
   "metadata": {
    "_uuid": "3d5c659c096cadc28f2cdd65abfb7a61fc0777c8"
   },
   "source": [
    "Here, we used the RandomForestRegressor model to predict the outputs, we see the strange prediction from this with score above 80% which can be assumed to be best fit but not due to its predicted values."
   ]
  },
  {
   "cell_type": "code",
   "execution_count": 33,
   "metadata": {},
   "outputs": [
    {
     "name": "stdout",
     "output_type": "stream",
     "text": [
      "Time_Diff    float64\n",
      "Latitude     float64\n",
      "Longitude    float64\n",
      "dtype: object\n",
      "Time_Diff    float64\n",
      "Latitude     float64\n",
      "Longitude    float64\n",
      "dtype: object\n"
     ]
    }
   ],
   "source": [
    "print(X_train.dtypes)\n",
    "print(X_test.dtypes)"
   ]
  },
  {
   "cell_type": "code",
   "execution_count": 34,
   "metadata": {
    "_uuid": "b6f9808731d449921637b96b9a2aef2961239a0d"
   },
   "outputs": [
    {
     "data": {
      "text/plain": [
       "array([[ 4.077, 30.565],\n",
       "       [ 3.772,  8.657],\n",
       "       [ 3.729,  8.417],\n",
       "       ...,\n",
       "       [ 4.448, 21.922],\n",
       "       [ 4.15 , 53.379],\n",
       "       [ 3.77 ,  6.625]])"
      ]
     },
     "execution_count": 34,
     "metadata": {},
     "output_type": "execute_result"
    }
   ],
   "source": [
    "from sklearn.ensemble import RandomForestRegressor\n",
    "\n",
    "reg = RandomForestRegressor(random_state=42)\n",
    "reg.fit(X_train, y_train)\n",
    "reg.predict(X_test)"
   ]
  },
  {
   "cell_type": "code",
   "execution_count": 35,
   "metadata": {
    "_uuid": "a2b8480ab26f551e16e45d3c70cda8192a402c9a"
   },
   "outputs": [
    {
     "data": {
      "text/plain": [
       "0.19700693574183537"
      ]
     },
     "execution_count": 35,
     "metadata": {},
     "output_type": "execute_result"
    }
   ],
   "source": [
    "reg.score(X_test, y_test)"
   ]
  },
  {
   "cell_type": "code",
   "execution_count": 36,
   "metadata": {
    "_uuid": "682a29a27dbbaf14303a8881f7fc13aacbc5b309"
   },
   "outputs": [
    {
     "data": {
      "text/plain": [
       "array([[ 4.0534, 30.0558],\n",
       "       [ 3.762 ,  8.0902],\n",
       "       [ 3.7792,  7.5778],\n",
       "       ...,\n",
       "       [ 4.4378, 21.6654],\n",
       "       [ 4.1792, 50.7484],\n",
       "       [ 3.7384,  6.2126]])"
      ]
     },
     "execution_count": 36,
     "metadata": {},
     "output_type": "execute_result"
    }
   ],
   "source": [
    "from sklearn.model_selection import GridSearchCV\n",
    "\n",
    "parameters = {'n_estimators':[10, 20, 50, 100, 200, 500]}\n",
    "\n",
    "grid_obj = GridSearchCV(reg, parameters)\n",
    "grid_fit = grid_obj.fit(X_train, y_train)\n",
    "best_fit = grid_fit.best_estimator_\n",
    "best_fit.predict(X_test)"
   ]
  },
  {
   "cell_type": "code",
   "execution_count": 37,
   "metadata": {
    "_uuid": "35d6cf6059a072189e9f95dad28f5cc0d8b9a7db"
   },
   "outputs": [
    {
     "data": {
      "text/plain": [
       "0.20513289546497038"
      ]
     },
     "execution_count": 37,
     "metadata": {},
     "output_type": "execute_result"
    }
   ],
   "source": [
    "best_fit.score(X_test, y_test)"
   ]
  },
  {
   "cell_type": "markdown",
   "metadata": {
    "_uuid": "215d5185f6964cf0ffbf313d6d5e285e9ad873db"
   },
   "source": [
    "### Neural Network model\n",
    "In the above case it was more kind of linear regressor where the predicted values are not as expected. So, Now, we build the neural network to fit the data for training set. Neural Network consists of three Dense layer with each 16, 16, 2 nodes and relu, relu and softmax as activation function."
   ]
  },
  {
   "cell_type": "code",
   "execution_count": 40,
   "metadata": {
    "_uuid": "ffcfb0d29010f5addab990783abab0923f7a1dcb"
   },
   "outputs": [
    {
     "ename": "ModuleNotFoundError",
     "evalue": "No module named 'keras.wrappers'",
     "output_type": "error",
     "traceback": [
      "\u001b[1;31m---------------------------------------------------------------------------\u001b[0m",
      "\u001b[1;31mModuleNotFoundError\u001b[0m                       Traceback (most recent call last)",
      "Cell \u001b[1;32mIn[40], line 3\u001b[0m\n\u001b[0;32m      1\u001b[0m \u001b[38;5;28;01mfrom\u001b[39;00m \u001b[38;5;21;01mkeras\u001b[39;00m\u001b[38;5;21;01m.\u001b[39;00m\u001b[38;5;21;01mmodels\u001b[39;00m \u001b[38;5;28;01mimport\u001b[39;00m Sequential\n\u001b[0;32m      2\u001b[0m \u001b[38;5;28;01mfrom\u001b[39;00m \u001b[38;5;21;01mkeras\u001b[39;00m\u001b[38;5;21;01m.\u001b[39;00m\u001b[38;5;21;01mlayers\u001b[39;00m \u001b[38;5;28;01mimport\u001b[39;00m Dense\n\u001b[1;32m----> 3\u001b[0m \u001b[38;5;28;01mfrom\u001b[39;00m \u001b[38;5;21;01mkeras\u001b[39;00m\u001b[38;5;21;01m.\u001b[39;00m\u001b[38;5;21;01mwrappers\u001b[39;00m\u001b[38;5;21;01m.\u001b[39;00m\u001b[38;5;21;01mscikit_learn\u001b[39;00m \u001b[38;5;28;01mimport\u001b[39;00m KerasClassifier\n\u001b[0;32m      4\u001b[0m \u001b[38;5;28;01mfrom\u001b[39;00m \u001b[38;5;21;01msklearn\u001b[39;00m\u001b[38;5;21;01m.\u001b[39;00m\u001b[38;5;21;01mmodel_selection\u001b[39;00m \u001b[38;5;28;01mimport\u001b[39;00m GridSearchCV\n\u001b[0;32m      6\u001b[0m \u001b[38;5;28;01mdef\u001b[39;00m \u001b[38;5;21mcreate_model\u001b[39m(neurons, activation, optimizer, loss):\n",
      "\u001b[1;31mModuleNotFoundError\u001b[0m: No module named 'keras.wrappers'"
     ]
    }
   ],
   "source": [
    "from keras.models import Sequential\n",
    "from keras.layers import Dense\n",
    "from scikeras.wrappers import KerasClassifier\n",
    "from sklearn.model_selection import GridSearchCV\n",
    "\n",
    "def create_model(neurons, activation, optimizer, loss):\n",
    "    model = Sequential()\n",
    "    model.add(Dense(neurons, activation=activation, input_shape=(3,)))\n",
    "    model.add(Dense(neurons, activation=activation))\n",
    "    model.add(Dense(2, activation='softmax'))\n",
    "    \n",
    "    model.compile(optimizer=optimizer, loss=loss, metrics=['accuracy'])\n",
    "    \n",
    "    return model"
   ]
  },
  {
   "cell_type": "markdown",
   "metadata": {
    "_uuid": "b053784767ceb4eb8171781f4667f4d296c4b197"
   },
   "source": [
    "In this, we define the hyperparameters with two or more options to find the best fit."
   ]
  },
  {
   "cell_type": "code",
   "execution_count": 21,
   "metadata": {
    "_uuid": "37e01b437bf48b4542a1cde0f9ece0ee427d7d6d"
   },
   "outputs": [
    {
     "ename": "ModuleNotFoundError",
     "evalue": "No module named 'keras.wrappers'",
     "output_type": "error",
     "traceback": [
      "\u001b[1;31m---------------------------------------------------------------------------\u001b[0m",
      "\u001b[1;31mModuleNotFoundError\u001b[0m                       Traceback (most recent call last)",
      "Cell \u001b[1;32mIn[21], line 1\u001b[0m\n\u001b[1;32m----> 1\u001b[0m \u001b[38;5;28;01mfrom\u001b[39;00m \u001b[38;5;21;01mkeras\u001b[39;00m\u001b[38;5;21;01m.\u001b[39;00m\u001b[38;5;21;01mwrappers\u001b[39;00m\u001b[38;5;21;01m.\u001b[39;00m\u001b[38;5;21;01mscikit_learn\u001b[39;00m \u001b[38;5;28;01mimport\u001b[39;00m KerasClassifier\n\u001b[0;32m      3\u001b[0m model \u001b[38;5;241m=\u001b[39m KerasClassifier(build_fn\u001b[38;5;241m=\u001b[39mcreate_model, verbose\u001b[38;5;241m=\u001b[39m\u001b[38;5;241m0\u001b[39m)\n\u001b[0;32m      5\u001b[0m \u001b[38;5;66;03m# neurons = [16, 64, 128, 256]\u001b[39;00m\n",
      "\u001b[1;31mModuleNotFoundError\u001b[0m: No module named 'keras.wrappers'"
     ]
    }
   ],
   "source": [
    "model = KerasClassifier(build_fn=create_model, verbose=0)\n",
    "\n",
    "# neurons = [16, 64, 128, 256]\n",
    "neurons = [16]\n",
    "# batch_size = [10, 20, 50, 100]\n",
    "batch_size = [10]\n",
    "epochs = [10]\n",
    "# activation = ['relu', 'tanh', 'sigmoid', 'hard_sigmoid', 'linear', 'exponential']\n",
    "activation = ['sigmoid', 'relu']\n",
    "# optimizer = ['SGD', 'RMSprop', 'Adagrad', 'Adadelta', 'Adam', 'Adamax', 'Nadam']\n",
    "optimizer = ['SGD', 'Adadelta']\n",
    "loss = ['squared_hinge']\n",
    "\n",
    "param_grid = dict(neurons=neurons, batch_size=batch_size, epochs=epochs, activation=activation, optimizer=optimizer, loss=loss)"
   ]
  },
  {
   "cell_type": "markdown",
   "metadata": {
    "_uuid": "363f1a26772010cc10044357fedc2d8330cc7722"
   },
   "source": [
    "Here, we find the best fit of the above model and get the mean test score and standard deviation of the best fit model."
   ]
  },
  {
   "cell_type": "code",
   "execution_count": 18,
   "metadata": {
    "_uuid": "e95a9220f51b2483cb581502a00e8aef484ad6ee"
   },
   "outputs": [
    {
     "name": "stdout",
     "output_type": "stream",
     "text": [
      "Best: 0.666684 using {'activation': 'sigmoid', 'batch_size': 10, 'epochs': 10, 'loss': 'squared_hinge', 'neurons': 16, 'optimizer': 'SGD'}\n",
      "0.666684 (0.471398) with: {'activation': 'sigmoid', 'batch_size': 10, 'epochs': 10, 'loss': 'squared_hinge', 'neurons': 16, 'optimizer': 'SGD'}\n",
      "0.000000 (0.000000) with: {'activation': 'sigmoid', 'batch_size': 10, 'epochs': 10, 'loss': 'squared_hinge', 'neurons': 16, 'optimizer': 'Adadelta'}\n",
      "0.666684 (0.471398) with: {'activation': 'relu', 'batch_size': 10, 'epochs': 10, 'loss': 'squared_hinge', 'neurons': 16, 'optimizer': 'SGD'}\n",
      "0.000000 (0.000000) with: {'activation': 'relu', 'batch_size': 10, 'epochs': 10, 'loss': 'squared_hinge', 'neurons': 16, 'optimizer': 'Adadelta'}\n"
     ]
    }
   ],
   "source": [
    "grid = GridSearchCV(estimator=model, param_grid=param_grid, n_jobs=-1)\n",
    "grid_result = grid.fit(X_train, y_train)\n",
    "\n",
    "print(\"Best: %f using %s\" % (grid_result.best_score_, grid_result.best_params_))\n",
    "means = grid_result.cv_results_['mean_test_score']\n",
    "stds = grid_result.cv_results_['std_test_score']\n",
    "params = grid_result.cv_results_['params']\n",
    "for mean, stdev, param in zip(means, stds, params):\n",
    "    print(\"%f (%f) with: %r\" % (mean, stdev, param))"
   ]
  },
  {
   "cell_type": "markdown",
   "metadata": {
    "_uuid": "af169ec22446a617bff56c1754e666f0bbb41815"
   },
   "source": [
    "The best fit parameters are used for same model to compute the score with training data and testing data."
   ]
  },
  {
   "cell_type": "code",
   "execution_count": 19,
   "metadata": {
    "_uuid": "6d43c955e2dac981b7858021de173ceb8b09e461"
   },
   "outputs": [],
   "source": [
    "model = Sequential()\n",
    "model.add(Dense(16, activation='relu', input_shape=(3,)))\n",
    "model.add(Dense(16, activation='relu'))\n",
    "model.add(Dense(2, activation='softmax'))\n",
    "\n",
    "model.compile(optimizer='SGD', loss='squared_hinge', metrics=['accuracy'])"
   ]
  },
  {
   "cell_type": "code",
   "execution_count": 20,
   "metadata": {
    "_uuid": "8d75707cb8c906834c485c805979fe3836a6ad6e"
   },
   "outputs": [
    {
     "name": "stdout",
     "output_type": "stream",
     "text": [
      "Train on 18727 samples, validate on 4682 samples\n",
      "Epoch 1/20\n",
      "18727/18727 [==============================] - 4s 233us/step - loss: 0.5038 - acc: 0.9182 - val_loss: 0.5038 - val_acc: 0.9242\n",
      "Epoch 2/20\n",
      "18727/18727 [==============================] - 4s 220us/step - loss: 0.5038 - acc: 0.9182 - val_loss: 0.5038 - val_acc: 0.9242\n",
      "Epoch 3/20\n",
      "18727/18727 [==============================] - 4s 228us/step - loss: 0.5038 - acc: 0.9182 - val_loss: 0.5038 - val_acc: 0.9242\n",
      "Epoch 4/20\n",
      "18727/18727 [==============================] - 4s 222us/step - loss: 0.5038 - acc: 0.9182 - val_loss: 0.5038 - val_acc: 0.9242\n",
      "Epoch 5/20\n",
      "18727/18727 [==============================] - 5s 262us/step - loss: 0.5038 - acc: 0.9182 - val_loss: 0.5038 - val_acc: 0.9242\n",
      "Epoch 6/20\n",
      "18727/18727 [==============================] - 4s 223us/step - loss: 0.5038 - acc: 0.9182 - val_loss: 0.5038 - val_acc: 0.9242\n",
      "Epoch 7/20\n",
      "18727/18727 [==============================] - 4s 220us/step - loss: 0.5038 - acc: 0.9182 - val_loss: 0.5038 - val_acc: 0.9242\n",
      "Epoch 8/20\n",
      "18727/18727 [==============================] - 4s 224us/step - loss: 0.5038 - acc: 0.9182 - val_loss: 0.5038 - val_acc: 0.9242\n",
      "Epoch 9/20\n",
      "18727/18727 [==============================] - 4s 220us/step - loss: 0.5038 - acc: 0.9182 - val_loss: 0.5038 - val_acc: 0.9242\n",
      "Epoch 10/20\n",
      "18727/18727 [==============================] - 4s 224us/step - loss: 0.5038 - acc: 0.9182 - val_loss: 0.5038 - val_acc: 0.9242\n",
      "Epoch 11/20\n",
      "18727/18727 [==============================] - 4s 221us/step - loss: 0.5038 - acc: 0.9182 - val_loss: 0.5038 - val_acc: 0.9242\n",
      "Epoch 12/20\n",
      "18727/18727 [==============================] - 4s 231us/step - loss: 0.5038 - acc: 0.9182 - val_loss: 0.5038 - val_acc: 0.9242\n",
      "Epoch 13/20\n",
      "18727/18727 [==============================] - 5s 248us/step - loss: 0.5038 - acc: 0.9182 - val_loss: 0.5038 - val_acc: 0.9242\n",
      "Epoch 14/20\n",
      "18727/18727 [==============================] - 4s 220us/step - loss: 0.5038 - acc: 0.9182 - val_loss: 0.5038 - val_acc: 0.9242\n",
      "Epoch 15/20\n",
      "18727/18727 [==============================] - 4s 223us/step - loss: 0.5038 - acc: 0.9182 - val_loss: 0.5038 - val_acc: 0.9242\n",
      "Epoch 16/20\n",
      "18727/18727 [==============================] - 4s 222us/step - loss: 0.5038 - acc: 0.9182 - val_loss: 0.5038 - val_acc: 0.9242\n",
      "Epoch 17/20\n",
      "18727/18727 [==============================] - 4s 225us/step - loss: 0.5038 - acc: 0.9182 - val_loss: 0.5038 - val_acc: 0.9242\n",
      "Epoch 18/20\n",
      "18727/18727 [==============================] - 4s 219us/step - loss: 0.5038 - acc: 0.9182 - val_loss: 0.5038 - val_acc: 0.9242\n",
      "Epoch 19/20\n",
      "18727/18727 [==============================] - 4s 220us/step - loss: 0.5038 - acc: 0.9182 - val_loss: 0.5038 - val_acc: 0.9242\n",
      "Epoch 20/20\n",
      "18727/18727 [==============================] - 5s 258us/step - loss: 0.5038 - acc: 0.9182 - val_loss: 0.5038 - val_acc: 0.9242\n"
     ]
    },
    {
     "data": {
      "text/plain": [
       "<keras.callbacks.History at 0x78dfa2107ef0>"
      ]
     },
     "execution_count": 20,
     "metadata": {},
     "output_type": "execute_result"
    }
   ],
   "source": [
    "model.fit(X_train, y_train, batch_size=10, epochs=20, verbose=1, validation_data=(X_test, y_test))"
   ]
  },
  {
   "cell_type": "code",
   "execution_count": 21,
   "metadata": {
    "_uuid": "95252c11f03124f97ffeb951dd1835aa7e29ee22"
   },
   "outputs": [
    {
     "name": "stdout",
     "output_type": "stream",
     "text": [
      "4682/4682 [==============================] - 0s 29us/step\n",
      "Evaluation result on Test Data : Loss = 0.5038455790406056, accuracy = 0.9241777017858995\n"
     ]
    }
   ],
   "source": [
    "[test_loss, test_acc] = model.evaluate(X_test, y_test)\n",
    "print(\"Evaluation result on Test Data : Loss = {}, accuracy = {}\".format(test_loss, test_acc))"
   ]
  },
  {
   "cell_type": "markdown",
   "metadata": {
    "_uuid": "1f462dff246920441300275da5591b6cf3536e03"
   },
   "source": [
    "We see that the above model performs better but it also has lot of noise (loss) which can be neglected for prediction and use it for furthur prediction.\n",
    "\n",
    "The above model is saved for furthur prediction."
   ]
  },
  {
   "cell_type": "code",
   "execution_count": 22,
   "metadata": {
    "_uuid": "56147c5973b579388f146c2da81e721ad4724b03"
   },
   "outputs": [],
   "source": [
    "model.save('earthquake.h5')"
   ]
  }
 ],
 "metadata": {
  "kernelspec": {
   "display_name": "Python 3 (ipykernel)",
   "language": "python",
   "name": "python3"
  },
  "language_info": {
   "codemirror_mode": {
    "name": "ipython",
    "version": 3
   },
   "file_extension": ".py",
   "mimetype": "text/x-python",
   "name": "python",
   "nbconvert_exporter": "python",
   "pygments_lexer": "ipython3",
   "version": "3.11.7"
  }
 },
 "nbformat": 4,
 "nbformat_minor": 4
}
